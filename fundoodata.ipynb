{
 "cells": [
  {
   "cell_type": "code",
   "execution_count": 1,
   "metadata": {},
   "outputs": [],
   "source": [
    "import requests\n",
    "from bs4 import BeautifulSoup\n",
    "from fake_useragent import UserAgent\n",
    "from selenium import webdriver\n",
    "import pandas as pd\n",
    "from selenium.webdriver.common.by import By\n",
    "import re\n",
    "from time import sleep\n",
    "import time"
   ]
  },
  {
   "cell_type": "code",
   "execution_count": 2,
   "metadata": {},
   "outputs": [],
   "source": [
    "company_url = []\n",
    "for page in range(10):\n",
    "    driver = requests.get(f'https://www.fundoodata.com/companyentitydata/3/0/list-of-unlisted-public-ltd-companies-in-india?&pageno={page}&tot_rows=42504&total_results=42504&no_of_offices=0')\n",
    "    soup = BeautifulSoup(driver.content, 'lxml')\n",
    "    divs = soup.find_all('div', {'class': 'heading'})\n",
    "    for i in divs:\n",
    "        company_url.append(i.find('a')['href'])"
   ]
  },
  {
   "cell_type": "code",
   "execution_count": 3,
   "metadata": {},
   "outputs": [
    {
     "data": {
      "text/plain": [
       "140"
      ]
     },
     "execution_count": 3,
     "metadata": {},
     "output_type": "execute_result"
    }
   ],
   "source": [
    "len(company_url)"
   ]
  },
  {
   "cell_type": "code",
   "execution_count": 4,
   "metadata": {},
   "outputs": [],
   "source": [
    "domains = []\n",
    "names = []\n",
    "for i in company_url:\n",
    "    driver = requests.get(i)\n",
    "    soup = BeautifulSoup(driver.content, 'lxml')\n",
    "    try:\n",
    "        soup.find('div', {'class' : 'fundoo8-area'}).text.strip()\n",
    "    except:\n",
    "        domain = soup.find('div', {'class':'detail-line'}).a['href']\n",
    "        name = soup.find('div', {'class': 'search-page-heading-red'}).text.strip()\n",
    "        domains.append(domain)\n",
    "        names.append(name)"
   ]
  },
  {
   "cell_type": "code",
   "execution_count": 5,
   "metadata": {},
   "outputs": [
    {
     "data": {
      "text/plain": [
       "140"
      ]
     },
     "execution_count": 5,
     "metadata": {},
     "output_type": "execute_result"
    }
   ],
   "source": [
    "len(domains)"
   ]
  },
  {
   "cell_type": "code",
   "execution_count": 6,
   "metadata": {},
   "outputs": [],
   "source": [
    "facebooks = []\n",
    "instagrams = []\n",
    "driver = webdriver.Chrome('/home/sush/Downloads/Compressed/chromedriver_linux64/chromedriver')\n",
    "\n",
    "for i in domains:\n",
    "    try:\n",
    "        driver.get(i)\n",
    "    except:\n",
    "        facebooks.append('None')\n",
    "        instagrams.append('None')\n",
    "        continue\n",
    "\n",
    "    soup = BeautifulSoup(driver.page_source, 'lxml')\n",
    "\n",
    "    try: facebook = soup.find(href=re.compile('https://www.facebook.com'))['href']\n",
    "    except: facebook = 'None'\n",
    "    try: instagram = soup.find(href=re.compile('https://www.instagram.com'))['href']        \n",
    "    except:instagram = 'None'\n",
    "\n",
    "    facebooks.append(facebook)\n",
    "    instagrams.append(instagram)"
   ]
  },
  {
   "cell_type": "code",
   "execution_count": 7,
   "metadata": {},
   "outputs": [
    {
     "data": {
      "text/plain": [
       "140"
      ]
     },
     "execution_count": 7,
     "metadata": {},
     "output_type": "execute_result"
    }
   ],
   "source": [
    "len(facebooks)"
   ]
  },
  {
   "cell_type": "code",
   "execution_count": 9,
   "metadata": {},
   "outputs": [],
   "source": [
    "lists = ['names', 'domains', 'facebooks', 'instagrams']"
   ]
  },
  {
   "cell_type": "code",
   "execution_count": 12,
   "metadata": {},
   "outputs": [],
   "source": [
    "data = {listname: globals()[listname] for listname in lists}\n",
    "with open('abc.json', 'w') as outfile:\n",
    "    json.dump(data, outfile, indent=4)"
   ]
  },
  {
   "cell_type": "code",
   "execution_count": 11,
   "metadata": {},
   "outputs": [],
   "source": [
    "import json"
   ]
  },
  {
   "cell_type": "code",
   "execution_count": null,
   "metadata": {},
   "outputs": [],
   "source": []
  }
 ],
 "metadata": {
  "kernelspec": {
   "display_name": "Python 3",
   "language": "python",
   "name": "python3"
  },
  "language_info": {
   "codemirror_mode": {
    "name": "ipython",
    "version": 3
   },
   "file_extension": ".py",
   "mimetype": "text/x-python",
   "name": "python",
   "nbconvert_exporter": "python",
   "pygments_lexer": "ipython3",
   "version": "3.7.3"
  }
 },
 "nbformat": 4,
 "nbformat_minor": 2
}
